{
 "cells": [
  {
   "cell_type": "markdown",
   "metadata": {},
   "source": [
    "# Downloading Weather Data through NOAA API\n",
    "\n",
    "- Defined a few auxiliary functions to avoid repeating same codes\n",
    "- Token needs to be requested from [Token Request Page](https://www.ncdc.noaa.gov/cdo-web/token)."
   ]
  },
  {
   "cell_type": "markdown",
   "metadata": {},
   "source": [
    "## Setup"
   ]
  },
  {
   "cell_type": "code",
   "execution_count": 1,
   "metadata": {
    "collapsed": true
   },
   "outputs": [],
   "source": [
    "import pandas as pd\n",
    "import re\n",
    "import json"
   ]
  },
  {
   "cell_type": "code",
   "execution_count": 2,
   "metadata": {
    "collapsed": true
   },
   "outputs": [],
   "source": [
    "import requests"
   ]
  },
  {
   "cell_type": "code",
   "execution_count": 3,
   "metadata": {
    "collapsed": false
   },
   "outputs": [],
   "source": [
    "# Token is saved separately\n",
    "from DownloadNOAADataFunctions.private_info import my_token"
   ]
  },
  {
   "cell_type": "code",
   "execution_count": 4,
   "metadata": {
    "collapsed": false
   },
   "outputs": [],
   "source": [
    "# Import custom functions\n",
    "import DownloadNOAADataFunctions.download2016weather as dl2016"
   ]
  },
  {
   "cell_type": "markdown",
   "metadata": {},
   "source": [
    "## Scraping Weather Data"
   ]
  },
  {
   "cell_type": "markdown",
   "metadata": {},
   "source": [
    "### Get list of airport stations"
   ]
  },
  {
   "cell_type": "code",
   "execution_count": 5,
   "metadata": {
    "collapsed": false
   },
   "outputs": [
    {
     "data": {
      "text/plain": [
       "{'ALBANY INTERNATIONAL AIRPORT, NY US': 'GHCND:USW00014735',\n",
       " 'DANSVILLE MUNICIPAL AIRPORT, NY US': 'GHCND:USW00094704',\n",
       " 'DUNKIRK CHAUTAUQUA CO AIRPORT, NY US': 'GHCND:USW00014747',\n",
       " 'ELMIRA CORNING REGIONAL AIRPORT, NY US': 'GHCND:USW00014748',\n",
       " 'FARMINGDALE REPUBLIC AIRPORT, NY US': 'GHCND:USW00054787',\n",
       " 'FULTON OSWEGO CO AIRPORT, NY US': 'GHCND:USW00054773',\n",
       " 'GLENS FALLS AIRPORT, NY US': 'GHCND:USW00014750',\n",
       " 'ISLIP LI MACARTHUR AIRPORT, NY US': 'GHCND:USW00004781',\n",
       " 'JFK INTERNATIONAL AIRPORT, NY US': 'GHCND:USW00094789',\n",
       " 'LA GUARDIA AIRPORT, NY US': 'GHCND:USW00014732',\n",
       " 'MASSENA INTERNATIONAL AIRPORT, NY US': 'GHCND:USW00094725',\n",
       " 'MONTAUK AIRPORT, NY US': 'GHCND:USW00054780',\n",
       " 'MONTGOMERY ORANGE CO AIRPORT, NY US': 'GHCND:USW00004789',\n",
       " 'NIAGARA FALLS INTERNATIONAL AIRPORT, NY US': 'GHCND:USW00004724',\n",
       " 'PENN YAN AIRPORT, NY US': 'GHCND:USW00054778',\n",
       " 'PLATTSBURGH INTERNATIONAL AIRPORT, NY US': 'GHCND:USW00064776',\n",
       " 'POUGHKEEPSIE AIRPORT, NY US': 'GHCND:USW00014757',\n",
       " 'SARANAC LAKE ADIRONDACK REGIONAL AIRPORT, NY US': 'GHCND:USW00094740',\n",
       " 'SHIRLEY BROOKHAVEN AIRPORT, NY US': 'GHCND:USW00054790',\n",
       " 'SYRACUSE HANCOCK INTERNATIONAL AIRPORT, NY US': 'GHCND:USW00014771',\n",
       " 'WATERTOWN AIRPORT, NY US': 'GHCND:USW00094790',\n",
       " 'WELLSVILLE MUNICIPAL AIRPORT, NY US': 'GHCND:USW00054757',\n",
       " 'WESTCHESTER CO AIRPORT, NY US': 'GHCND:USW00094745',\n",
       " 'WESTHAMPTON GABRESKI AIRPORT, NY US': 'GHCND:USW00014719'}"
      ]
     },
     "execution_count": 5,
     "metadata": {},
     "output_type": "execute_result"
    }
   ],
   "source": [
    "airport_ids = dl2016.get_airport_stations(my_token, 36)\n",
    "airport_ids"
   ]
  },
  {
   "cell_type": "code",
   "execution_count": 6,
   "metadata": {
    "collapsed": false
   },
   "outputs": [
    {
     "data": {
      "text/plain": [
       "'GHCND:USW00094789'"
      ]
     },
     "execution_count": 6,
     "metadata": {},
     "output_type": "execute_result"
    }
   ],
   "source": [
    "# take id for JFK\n",
    "jfk_id = airport_ids['JFK INTERNATIONAL AIRPORT, NY US']\n",
    "jfk_id"
   ]
  },
  {
   "cell_type": "code",
   "execution_count": 7,
   "metadata": {
    "collapsed": false
   },
   "outputs": [
    {
     "data": {
      "text/plain": [
       "{'datacoverage': 1,\n",
       " 'elevation': 3.4,\n",
       " 'elevationUnit': 'METERS',\n",
       " 'id': 'GHCND:USW00094789',\n",
       " 'latitude': 40.6386,\n",
       " 'longitude': -73.7622,\n",
       " 'maxdate': '2017-03-16',\n",
       " 'mindate': '1948-07-01',\n",
       " 'name': 'JFK INTERNATIONAL AIRPORT, NY US'}"
      ]
     },
     "execution_count": 7,
     "metadata": {},
     "output_type": "execute_result"
    }
   ],
   "source": [
    "# Get the station information for JFK \n",
    "dl2016.get_station_info(my_token, jfk_id)"
   ]
  },
  {
   "cell_type": "markdown",
   "metadata": {},
   "source": [
    "### Download weather data for JFK"
   ]
  },
  {
   "cell_type": "code",
   "execution_count": 8,
   "metadata": {
    "collapsed": false
   },
   "outputs": [
    {
     "data": {
      "text/html": [
       "<div>\n",
       "<table border=\"1\" class=\"dataframe\">\n",
       "  <thead>\n",
       "    <tr style=\"text-align: right;\">\n",
       "      <th></th>\n",
       "      <th>date</th>\n",
       "      <th>station</th>\n",
       "      <th>TMAX</th>\n",
       "    </tr>\n",
       "  </thead>\n",
       "  <tbody>\n",
       "    <tr>\n",
       "      <th>0</th>\n",
       "      <td>2016-01-01T00:00:00</td>\n",
       "      <td>GHCND:USW00094789</td>\n",
       "      <td>44.0</td>\n",
       "    </tr>\n",
       "    <tr>\n",
       "      <th>1</th>\n",
       "      <td>2016-01-02T00:00:00</td>\n",
       "      <td>GHCND:USW00094789</td>\n",
       "      <td>41.0</td>\n",
       "    </tr>\n",
       "    <tr>\n",
       "      <th>2</th>\n",
       "      <td>2016-01-03T00:00:00</td>\n",
       "      <td>GHCND:USW00094789</td>\n",
       "      <td>48.0</td>\n",
       "    </tr>\n",
       "    <tr>\n",
       "      <th>3</th>\n",
       "      <td>2016-01-04T00:00:00</td>\n",
       "      <td>GHCND:USW00094789</td>\n",
       "      <td>38.0</td>\n",
       "    </tr>\n",
       "    <tr>\n",
       "      <th>4</th>\n",
       "      <td>2016-01-05T00:00:00</td>\n",
       "      <td>GHCND:USW00094789</td>\n",
       "      <td>29.0</td>\n",
       "    </tr>\n",
       "  </tbody>\n",
       "</table>\n",
       "</div>"
      ],
      "text/plain": [
       "                  date            station  TMAX\n",
       "0  2016-01-01T00:00:00  GHCND:USW00094789  44.0\n",
       "1  2016-01-02T00:00:00  GHCND:USW00094789  41.0\n",
       "2  2016-01-03T00:00:00  GHCND:USW00094789  48.0\n",
       "3  2016-01-04T00:00:00  GHCND:USW00094789  38.0\n",
       "4  2016-01-05T00:00:00  GHCND:USW00094789  29.0"
      ]
     },
     "execution_count": 8,
     "metadata": {},
     "output_type": "execute_result"
    }
   ],
   "source": [
    "tmax_df = dl2016.get_data(my_token, 'GHCND', 'TMAX', jfk_id)\n",
    "tmax_df.head()"
   ]
  },
  {
   "cell_type": "code",
   "execution_count": 9,
   "metadata": {
    "collapsed": false
   },
   "outputs": [
    {
     "data": {
      "text/html": [
       "<div>\n",
       "<table border=\"1\" class=\"dataframe\">\n",
       "  <thead>\n",
       "    <tr style=\"text-align: right;\">\n",
       "      <th></th>\n",
       "      <th>date</th>\n",
       "      <th>station</th>\n",
       "      <th>TMIN</th>\n",
       "    </tr>\n",
       "  </thead>\n",
       "  <tbody>\n",
       "    <tr>\n",
       "      <th>0</th>\n",
       "      <td>2016-01-01T00:00:00</td>\n",
       "      <td>GHCND:USW00094789</td>\n",
       "      <td>36.0</td>\n",
       "    </tr>\n",
       "    <tr>\n",
       "      <th>1</th>\n",
       "      <td>2016-01-02T00:00:00</td>\n",
       "      <td>GHCND:USW00094789</td>\n",
       "      <td>34.0</td>\n",
       "    </tr>\n",
       "    <tr>\n",
       "      <th>2</th>\n",
       "      <td>2016-01-03T00:00:00</td>\n",
       "      <td>GHCND:USW00094789</td>\n",
       "      <td>35.0</td>\n",
       "    </tr>\n",
       "    <tr>\n",
       "      <th>3</th>\n",
       "      <td>2016-01-04T00:00:00</td>\n",
       "      <td>GHCND:USW00094789</td>\n",
       "      <td>15.0</td>\n",
       "    </tr>\n",
       "    <tr>\n",
       "      <th>4</th>\n",
       "      <td>2016-01-05T00:00:00</td>\n",
       "      <td>GHCND:USW00094789</td>\n",
       "      <td>12.0</td>\n",
       "    </tr>\n",
       "  </tbody>\n",
       "</table>\n",
       "</div>"
      ],
      "text/plain": [
       "                  date            station  TMIN\n",
       "0  2016-01-01T00:00:00  GHCND:USW00094789  36.0\n",
       "1  2016-01-02T00:00:00  GHCND:USW00094789  34.0\n",
       "2  2016-01-03T00:00:00  GHCND:USW00094789  35.0\n",
       "3  2016-01-04T00:00:00  GHCND:USW00094789  15.0\n",
       "4  2016-01-05T00:00:00  GHCND:USW00094789  12.0"
      ]
     },
     "execution_count": 9,
     "metadata": {},
     "output_type": "execute_result"
    }
   ],
   "source": [
    "tmin_df = dl2016.get_data(my_token, 'GHCND', 'TMIN', jfk_id)\n",
    "tmin_df.head()"
   ]
  },
  {
   "cell_type": "code",
   "execution_count": 10,
   "metadata": {
    "collapsed": false
   },
   "outputs": [
    {
     "data": {
      "text/html": [
       "<div>\n",
       "<table border=\"1\" class=\"dataframe\">\n",
       "  <thead>\n",
       "    <tr style=\"text-align: right;\">\n",
       "      <th></th>\n",
       "      <th>date</th>\n",
       "      <th>station</th>\n",
       "      <th>TMAX</th>\n",
       "      <th>TMIN</th>\n",
       "    </tr>\n",
       "  </thead>\n",
       "  <tbody>\n",
       "    <tr>\n",
       "      <th>0</th>\n",
       "      <td>2016-01-01T00:00:00</td>\n",
       "      <td>GHCND:USW00094789</td>\n",
       "      <td>44.0</td>\n",
       "      <td>36.0</td>\n",
       "    </tr>\n",
       "    <tr>\n",
       "      <th>1</th>\n",
       "      <td>2016-01-02T00:00:00</td>\n",
       "      <td>GHCND:USW00094789</td>\n",
       "      <td>41.0</td>\n",
       "      <td>34.0</td>\n",
       "    </tr>\n",
       "    <tr>\n",
       "      <th>2</th>\n",
       "      <td>2016-01-03T00:00:00</td>\n",
       "      <td>GHCND:USW00094789</td>\n",
       "      <td>48.0</td>\n",
       "      <td>35.0</td>\n",
       "    </tr>\n",
       "    <tr>\n",
       "      <th>3</th>\n",
       "      <td>2016-01-04T00:00:00</td>\n",
       "      <td>GHCND:USW00094789</td>\n",
       "      <td>38.0</td>\n",
       "      <td>15.0</td>\n",
       "    </tr>\n",
       "    <tr>\n",
       "      <th>4</th>\n",
       "      <td>2016-01-05T00:00:00</td>\n",
       "      <td>GHCND:USW00094789</td>\n",
       "      <td>29.0</td>\n",
       "      <td>12.0</td>\n",
       "    </tr>\n",
       "  </tbody>\n",
       "</table>\n",
       "</div>"
      ],
      "text/plain": [
       "                  date            station  TMAX  TMIN\n",
       "0  2016-01-01T00:00:00  GHCND:USW00094789  44.0  36.0\n",
       "1  2016-01-02T00:00:00  GHCND:USW00094789  41.0  34.0\n",
       "2  2016-01-03T00:00:00  GHCND:USW00094789  48.0  35.0\n",
       "3  2016-01-04T00:00:00  GHCND:USW00094789  38.0  15.0\n",
       "4  2016-01-05T00:00:00  GHCND:USW00094789  29.0  12.0"
      ]
     },
     "execution_count": 10,
     "metadata": {},
     "output_type": "execute_result"
    }
   ],
   "source": [
    "temp_df = pd.merge(tmax_df, tmin_df, on = ['date', 'station'])\n",
    "temp_df.head()"
   ]
  },
  {
   "cell_type": "code",
   "execution_count": 11,
   "metadata": {
    "collapsed": false
   },
   "outputs": [
    {
     "data": {
      "text/plain": [
       "(366, 4)"
      ]
     },
     "execution_count": 11,
     "metadata": {},
     "output_type": "execute_result"
    }
   ],
   "source": [
    "temp_df.shape"
   ]
  }
 ],
 "metadata": {
  "kernelspec": {
   "display_name": "Python 3",
   "language": "python",
   "name": "python3"
  },
  "language_info": {
   "codemirror_mode": {
    "name": "ipython",
    "version": 3
   },
   "file_extension": ".py",
   "mimetype": "text/x-python",
   "name": "python",
   "nbconvert_exporter": "python",
   "pygments_lexer": "ipython3",
   "version": "3.6.0"
  }
 },
 "nbformat": 4,
 "nbformat_minor": 2
}
